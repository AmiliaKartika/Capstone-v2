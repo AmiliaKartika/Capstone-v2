{
 "cells": [
  {
   "cell_type": "code",
   "execution_count": 111,
   "metadata": {},
   "outputs": [],
   "source": [
    "import json\n",
    "import string\n",
    "import tensorflow as tf\n",
    "import numpy as np"
   ]
  },
  {
   "cell_type": "code",
   "execution_count": 112,
   "metadata": {},
   "outputs": [],
   "source": [
    "model = tf.keras.models.load_model('saved_model/1')"
   ]
  },
  {
   "cell_type": "code",
   "execution_count": 113,
   "metadata": {},
   "outputs": [],
   "source": [
    "with open(\"word-dict.json\") as file:\n",
    "    global word_dict\n",
    "    word_dict = json.load(file)"
   ]
  },
  {
   "cell_type": "code",
   "execution_count": 114,
   "metadata": {},
   "outputs": [
    {
     "name": "stdout",
     "output_type": "stream",
     "text": [
      "1/1 [==============================] - 1s 582ms/step\n",
      "data_pred => [[0.28500882 0.21683519 0.49815592]]\n",
      "index_pred => 2\n",
      "label_pred => positive\n"
     ]
    }
   ],
   "source": [
    "def text_preprocessing(text, dict_word, oov_token=\"<OOV>\", max_length=73):\n",
    "    words = text.translate(str.maketrans('', '', string.punctuation)).lower().split(\" \")\n",
    "    result = [dict_word.get(word, dict_word[oov_token]) for word in words]\n",
    "    padding = [0 for _ in range(max_length - len(result))]\n",
    "    return [result + padding]\n",
    "\n",
    "def model_predict(text_processed):\n",
    "    labels = [\"negative\", \"neutral\", \"positive\"]\n",
    "    data_pred = model.predict(text_processed)\n",
    "    print(\"data_pred =>\", data_pred)\n",
    "    index_pred = np.argmax(data_pred)\n",
    "    print(\"index_pred =>\", index_pred)\n",
    "    label_pred = labels[index_pred]\n",
    "    print(\"label_pred =>\", label_pred)\n",
    "\n",
    "text_processed = text_preprocessing(\"tidak enak keasinan.\", dict_word=word_dict)\n",
    "model_predict(text_processed)"
   ]
  },
  {
   "cell_type": "code",
   "execution_count": 116,
   "metadata": {},
   "outputs": [],
   "source": [
    "import requests\n",
    "\n",
    "def test_predict_tfserving(text, endpoint):\n",
    "    text_processed = text_preprocessing(text, dict_word=word_dict)\n",
    "\n",
    "    json_data = json.dumps({\"instances\": text_processed})\n",
    "\n",
    "    response = requests.post(endpoint, data=json_data)\n",
    "    prediction = response.json()[\"predictions\"][0]\n",
    "    print(f\"Prediction from TFServing: {prediction}\")\n",
    "\n",
    "    list_class_name = [\"negative\", \"neutral\", \"positive\"]\n",
    "\n",
    "    index_class_predicted = np.argmax(prediction)\n",
    "    print(f\"Index class predicted: {index_class_predicted}\")\n",
    "    print(f\"Class name predicted: {list_class_name[index_class_predicted]}\")"
   ]
  },
  {
   "cell_type": "code",
   "execution_count": 128,
   "metadata": {},
   "outputs": [
    {
     "name": "stdout",
     "output_type": "stream",
     "text": [
      "Prediction from TFServing: [0.242602661, 0.203741908, 0.553655505]\n",
      "Index class predicted: 2\n",
      "Class name predicted: positive\n"
     ]
    }
   ],
   "source": [
    "test_predict_tfserving(\n",
    "    text=\"seblaknya tidak enak, tempatnya jorok banyak lalat mahall\",\n",
    "    endpoint=\"https://kulinerin-q6za24kwsq-uc.a.run.app/v1/models/kulinerin:predict\"\n",
    ")"
   ]
  }
 ],
 "metadata": {
  "kernelspec": {
   "display_name": "Python 3",
   "language": "python",
   "name": "python3"
  },
  "language_info": {
   "codemirror_mode": {
    "name": "ipython",
    "version": 3
   },
   "file_extension": ".py",
   "mimetype": "text/x-python",
   "name": "python",
   "nbconvert_exporter": "python",
   "pygments_lexer": "ipython3",
   "version": "3.9.0"
  }
 },
 "nbformat": 4,
 "nbformat_minor": 2
}
